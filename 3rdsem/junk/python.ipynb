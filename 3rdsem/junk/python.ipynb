{
 "cells": [
  {
   "cell_type": "code",
   "execution_count": null,
   "metadata": {},
   "outputs": [],
   "source": [
    "import numpy as np\n",
    "import matplotlib.pyplot as plt\n",
    "\n",
    "# Define the range for z values\n",
    "z = np.linspace(0, 3, 400)\n",
    "\n",
    "# Create a mask to highlight values where z > 1.6\n",
    "mask = z > 1.6\n",
    "\n",
    "# Plot the graph\n",
    "plt.figure(figsize=(8, 6))\n",
    "plt.plot(z, np.zeros_like(z), color='blue', label='y = 0', linestyle='--')  # line for y = 0\n",
    "plt.fill_between(z, 0, 1, where=mask, color='green', alpha=0.5, label='z > 1.6')\n",
    "plt.axvline(x=1.6, color='red', linestyle=':', label='z = 1.6')  # Vertical line at z = 1.6\n",
    "\n",
    "# Adding labels and title\n",
    "plt.xlabel('z')\n",
    "plt.ylabel('y')\n",
    "plt.title('Visualization of z > 1.6')\n",
    "plt.legend()\n",
    "plt.grid(True)\n",
    "\n",
    "# Show plot\n",
    "plt.show()"
   ]
  },
  {
   "cell_type": "markdown",
   "metadata": {},
   "source": []
  },
  {
   "cell_type": "code",
   "execution_count": null,
   "metadata": {},
   "outputs": [],
   "source": [
    "# Given data\n",
    "p_A = 0.20   # Proportion in city A\n",
    "n_A = 900    # Sample size in city A\n",
    "p_B = 0.185  # Proportion in city B\n",
    "n_B = 1600   # Sample size in city B\n",
    "\n",
    "# Compute the pooled proportion\n",
    "pooled_p = (p_A * n_A + p_B * n_B) / (n_A + n_B)\n",
    "\n",
    "# Compute the standard error\n",
    "SE = ((pooled_p * (1 - pooled_p)) * (1/n_A + 1/n_B)) ** 0.5\n",
    "\n",
    "# Compute the z-score\n",
    "z = (p_A - p_B) / SE\n",
    "\n",
    "# Critical z-value for 5% significance level (two-tailed test)\n",
    "z_critical = 1.96\n",
    "\n",
    "# Result\n",
    "z, abs(z) > z_critical\n"
   ]
  },
  {
   "cell_type": "code",
   "execution_count": 1,
   "metadata": {},
   "outputs": [
    {
     "data": {
      "text/plain": [
       "(5.366563145999496, True)"
      ]
     },
     "execution_count": 1,
     "metadata": {},
     "output_type": "execute_result"
    }
   ],
   "source": [
    "# Given data\n",
    "n = 9000          # Total number of throws\n",
    "x = 3240          # Number of times 5 or 6 was obtained\n",
    "p_hat = x / n     # Observed proportion\n",
    "p_0 = 1 / 3       # Expected proportion under H0\n",
    "\n",
    "# Compute the standard error\n",
    "SE = ((p_0 * (1 - p_0)) / n) ** 0.5\n",
    "\n",
    "# Compute the z-score\n",
    "z = (p_hat - p_0) / SE\n",
    "\n",
    "# Critical z-value for 1% significance level (two-tailed test)\n",
    "z_critical = 2.576\n",
    "\n",
    "# Result\n",
    "z, abs(z) > z_critical\n"
   ]
  },
  {
   "cell_type": "code",
   "execution_count": 1,
   "metadata": {},
   "outputs": [
    {
     "data": {
      "text/plain": [
       "(2.4748737341529266, True, False)"
      ]
     },
     "execution_count": 1,
     "metadata": {},
     "output_type": "execute_result"
    }
   ],
   "source": [
    "import math\n",
    "\n",
    "# Given data\n",
    "mu_0 = 74.5       # Population mean\n",
    "sigma = 8         # Population standard deviation\n",
    "n = 200           # Sample size\n",
    "x_bar = 75.9      # Sample mean\n",
    "\n",
    "# Compute the standard error\n",
    "SE = sigma / math.sqrt(n)\n",
    "\n",
    "# Compute the z-score\n",
    "z = (x_bar - mu_0) / SE\n",
    "\n",
    "# Critical z-values for 5% and 1% significance levels (two-tailed test)\n",
    "z_critical_5 = 1.96\n",
    "z_critical_1 = 2.576\n",
    "\n",
    "# Check if the z-score is significant at both levels\n",
    "significant_5 = abs(z) > z_critical_5\n",
    "significant_1 = abs(z) > z_critical_1\n",
    "\n",
    "z, significant_5, significant_1\n"
   ]
  }
 ],
 "metadata": {
  "kernelspec": {
   "display_name": "Python 3",
   "language": "python",
   "name": "python3"
  },
  "language_info": {
   "codemirror_mode": {
    "name": "ipython",
    "version": 3
   },
   "file_extension": ".py",
   "mimetype": "text/x-python",
   "name": "python",
   "nbconvert_exporter": "python",
   "pygments_lexer": "ipython3",
   "version": "3.12.1"
  }
 },
 "nbformat": 4,
 "nbformat_minor": 2
}
