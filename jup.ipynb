{
 "cells": [
  {
   "cell_type": "markdown",
   "metadata": {},
   "source": [
    "# Experiment 7"
   ]
  },
  {
   "cell_type": "code",
   "execution_count": null,
   "metadata": {},
   "outputs": [],
   "source": [
    "import pandas as pd\n",
    "import seaborn as sns\n",
    "import matplotlib.pyplot as plt\n",
    "\n",
    "# Load dataset from the Excel file\n",
    "df = pd.read_excel(\"pyexp7.xlsx\")  # Load the Excel file from the same folder\n",
    "\n",
    "# Display the first few rows of the dataset\n",
    "print(df.head())\n",
    "\n",
    "# Set Seaborn style\n",
    "sns.set_style(\"whitegrid\", rc={\"lines.linewidth\": 2.5, \"grid.color\": \"red\", \"xtick.color\": \"blue\"})\n",
    "\n",
    "# Create a scatter plot\n",
    "sns.scatterplot(x=\"Total_bill\", y=\"Tip\", hue=\"Sex\", data=df)\n",
    "# Save the plot as an image file\n",
    "\n",
    "\n",
    "# Display the plot\n",
    "plt.show()\n"
   ]
  },
  {
   "cell_type": "markdown",
   "metadata": {},
   "source": [
    "# Experiment 8"
   ]
  },
  {
   "cell_type": "code",
   "execution_count": 7,
   "metadata": {},
   "outputs": [],
   "source": [
    "from bokeh.plotting import figure, output_file, show\n",
    "from bokeh.models import Legend, LegendItem, Title , Span\n",
    "\n",
    "output_file(\"line_graph_with_annotations.html\")\n",
    "\n",
    "x = [1,2,3,4,5]\n",
    "y1 = [2,5,7,2,8]\n",
    "y2 = [1,4,5,3,6]\n",
    "\n",
    "p = figure(title = \"Line graph with annotations and legends\",x_axis_label = \"x-axis\",y_axis_label= \"y-axis\")\n",
    "\n",
    "line1 = p.line(x,y1,line_width=2,color=\"blue\",legend_label = \"line 1\")\n",
    "line2 = p.line(x,y2,line_width=2,color=\"red\",legend_label = \"line 2\")\n",
    "\n",
    "annotation = Span(location = 3, dimension = \"width\", line_color= \"black\",line_width = 8)\n",
    "\n",
    "p.add_layout(annotation)\n",
    "\n",
    "legend = Legend(items = [LegendItem(label = \"line 1\",renderers = [line1]),LegendItem(label = \"line 2\",renderers = [line2])])\n",
    "p.add_layout(legend)\n",
    "show(p)"
   ]
  }
 ],
 "metadata": {
  "kernelspec": {
   "display_name": "Python 3",
   "language": "python",
   "name": "python3"
  },
  "language_info": {
   "codemirror_mode": {
    "name": "ipython",
    "version": 3
   },
   "file_extension": ".py",
   "mimetype": "text/x-python",
   "name": "python",
   "nbconvert_exporter": "python",
   "pygments_lexer": "ipython3",
   "version": "3.12.7"
  }
 },
 "nbformat": 4,
 "nbformat_minor": 2
}
